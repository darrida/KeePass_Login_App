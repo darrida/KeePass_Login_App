{
 "cells": [
  {
   "cell_type": "markdown",
   "metadata": {},
   "source": [
    "Python Keepass Login Setup"
   ]
  },
  {
   "cell_type": "code",
   "execution_count": null,
   "metadata": {},
   "outputs": [],
   "source": [
    "import getpass\n",
    "from passlib.hash import pbkdf2_sha256\n",
    "try:\n",
    "    from configparser import ConfigParser\n",
    "except ImportError:\n",
    "    from ConfigParser import ConfigParser  # ver. < 3.0\n"
   ]
  },
  {
   "cell_type": "code",
   "execution_count": 37,
   "metadata": {},
   "outputs": [],
   "source": [
    "\n",
    "def createini(password, username):\n",
    "    ini_file_name = 'kp_config.ini' \n",
    "    hash_name = username + \"_hash\"\n",
    "    \n",
    "    # instantiate\n",
    "    config = ConfigParser()\n",
    "    \n",
    "    # parse existing file\n",
    "    with open(ini_file_name, 'w') as configfile:\n",
    "        config.write(configfile)\n",
    "\n",
    "    # parse existing file\n",
    "    config.read(ini_file_name)\n",
    "\n",
    "    # add a new section and some values\n",
    "    config.add_section('ENTRY 1')\n",
    "    config.set('ENTRY 1', hash_name, password)\n",
    "    #config.set('ENTRY 1', 'user1', username)\n",
    "\n",
    "    with open(ini_file_name, 'w') as configfile:\n",
    "        config.write(configfile)\n",
    "        \n",
    "def verify(username):\n",
    "    pw_verify = getpass.getpass(\"Confirm your password: \")\n",
    "    hash_name = username + \"_hash\"\n",
    "    \n",
    "    # instantiate\n",
    "    config = ConfigParser()\n",
    "    \n",
    "    # parse existing file\n",
    "    config.read('kp_config.ini')\n",
    "    \n",
    "    # read values from a section\n",
    "    read_hash = config.get('ENTRY 1', hash_name)\n",
    "    #read_user = config.get('ENTRY 1', 'user1')\n",
    "    #int_val = config.getint('section_a', 'int_val')\n",
    "    #float_val = config.getfloat('section_a', 'pi_val')\n",
    "    i = 0\n",
    "    while ((pbkdf2_sha256.verify(pw_verify, read_hash) == False) & (i < 5)):\n",
    "        print(\"\\nUsername or password incorrect, please try again.\")\n",
    "        pw_verify = getpass.getpass(\"Confirm your password: \")\n",
    "        i += 1\n",
    "        #while (pbkdf2_sha256.verify(pw_verify, read_hash) == False):\n",
    "    if (pbkdf2_sha256.verify(pw_verify, read_hash) == True):       \n",
    "        print(\"\\nThanks \" + user + \", your password was successful.\")\n",
    "    else:\n",
    "        print(\"Too many tries. Please start over.\")\n",
    "        \n",
    "def login(username, password):\n",
    "    hash_name = username + \"_hash\"\n",
    "    \n",
    "    # instantiate\n",
    "    config = ConfigParser()\n",
    "    \n",
    "    # parse existing file\n",
    "    config.read('kp_config.ini')\n",
    "    \n",
    "    # read values from a section\n",
    "    read_hash = config.get('ENTRY 1', hash_name)\n",
    "\n",
    "    i = 0\n",
    "    while ((pbkdf2_sha256.verify(password, read_hash) == False) & (i < 5)):\n",
    "        print(\"\\nUsername or password incorrect, please try again.\")\n",
    "        pw_verify = getpass.getpass(\"Confirm your password: \")\n",
    "        i += 1\n",
    "        #while (pbkdf2_sha256.verify(pw_verify, read_hash) == False):\n",
    "    if (pbkdf2_sha256.verify(password, read_hash) == True):       \n",
    "        print(\"\\n\\nThanks \" + user + \" -- login successful.\")\n",
    "    else:\n",
    "        print(\"Too many tries. Please start over.\")\n",
    "        \n",
    "def main():\n",
    "    user = input(\"What is your username?\")\n",
    "    password = getpass.getpass(\"What is your password?\")\n",
    "    #password = input(\"What is your password?\")\n",
    "    hash = pbkdf2_sha256.hash(password, rounds=500000, salt_size=16)\n",
    "    createini(hash, user)\n",
    "    #pw_verify = input(\"Confirm your password\")\n",
    "    verify(user)"
   ]
  },
  {
   "cell_type": "code",
   "execution_count": 38,
   "metadata": {},
   "outputs": [
    {
     "name": "stdin",
     "output_type": "stream",
     "text": [
      "What is your username? ben\n",
      "What is your password? ········\n",
      "Confirm your password:  ········\n"
     ]
    },
    {
     "name": "stdout",
     "output_type": "stream",
     "text": [
      "\n",
      "Thanks ben, your password was successful.\n"
     ]
    }
   ],
   "source": [
    "main()"
   ]
  },
  {
   "cell_type": "code",
   "execution_count": null,
   "metadata": {},
   "outputs": [],
   "source": [
    "login_user = input(\"Username: \")\n",
    "login_pw = getpass.getpass(\"Password: \")\n",
    "login(login_user, login_pw)"
   ]
  },
  {
   "cell_type": "raw",
   "metadata": {},
   "source": [
    "#SET AS RAW, DOESN'T RUN\n",
    "\n",
    "try:\n",
    "    from configparser import ConfigParser\n",
    "except ImportError:\n",
    "    from ConfigParser import ConfigParser  # ver. < 3.0\n",
    "\n",
    "# instantiate\n",
    "config = ConfigParser()\n",
    "\n",
    "# parse existing file\n",
    "config.read('test.ini')\n",
    "\n",
    "# read values from a section\n",
    "string_val = config.get('section_a', 'string_val')\n",
    "bool_val = config.getboolean('section_a', 'bool_val')\n",
    "int_val = config.getint('section_a', 'int_val')\n",
    "float_val = config.getfloat('section_a', 'pi_val')\n",
    "\n",
    "# update existing value\n",
    "config.set('section_a', 'string_val', 'world')\n",
    "config.set('section_a', 'bool_val', hash)\n",
    "config.set('section_a', 'int_val', user)\n",
    "\n",
    "# add a new section and some values\n",
    "config.add_section('section_b')\n",
    "config.set('section_b', 'meal_val', 'spam')\n",
    "config.set('section_b', 'not_found_val', \"404\")\n",
    "\n",
    "# save to a file\n",
    "with open('test_update.ini', 'w') as configfile:\n",
    "    config.write(configfile)"
   ]
  },
  {
   "cell_type": "raw",
   "metadata": {},
   "source": [
    "#SET AS RAW, DOESN'T RUN\n",
    "\n",
    "try:\n",
    "    from configparser import ConfigParser\n",
    "except ImportError:\n",
    "    from ConfigParser import ConfigParser  # ver. < 3.0\n",
    "\n",
    "# instantiate\n",
    "config = ConfigParser()\n",
    "\n",
    "# parse existing file\n",
    "config.read('test_new.ini')\n",
    "\n",
    "# add a new section and some values\n",
    "config.add_section('section_b')\n",
    "config.set('section_b', 'meal_val', hash)\n",
    "config.set('section_b', 'not_found_val', user)\n",
    "config.close\n",
    "\n",
    "# read values from a section\n",
    "string_val = config.get('section_a', 'string_val')\n",
    "bool_val = config.getboolean('section_a', 'bool_val')\n",
    "int_val = config.getint('section_a', 'int_val')\n",
    "float_val = config.getfloat('section_a', 'pi_val')\n",
    "\n",
    "# update existing value\n",
    "config.set('section_a', 'string_val', 'world')\n",
    "config.set('section_a', 'bool_val', hash)\n",
    "config.set('section_a', 'int_val', user)\n",
    "\n",
    "# add a new section and some values\n",
    "config.add_section('section_b')\n",
    "config.set('section_b', 'meal_val', 'spam')\n",
    "config.set('section_b', 'not_found_val', \"404\")\n",
    "\n",
    "# save to a file\n",
    "with open('test_update.ini', 'w') as configfile:\n",
    "    config.write(configfile)"
   ]
  }
 ],
 "metadata": {
  "kernelspec": {
   "display_name": "Python 3",
   "language": "python",
   "name": "python3"
  },
  "language_info": {
   "codemirror_mode": {
    "name": "ipython",
    "version": 3
   },
   "file_extension": ".py",
   "mimetype": "text/x-python",
   "name": "python",
   "nbconvert_exporter": "python",
   "pygments_lexer": "ipython3",
   "version": "3.6.3"
  }
 },
 "nbformat": 4,
 "nbformat_minor": 2
}
