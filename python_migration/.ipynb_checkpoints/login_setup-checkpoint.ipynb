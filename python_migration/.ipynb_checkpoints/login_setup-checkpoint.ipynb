{
 "cells": [
  {
   "cell_type": "markdown",
   "metadata": {},
   "source": [
    "Python Keepass Login Setup"
   ]
  },
  {
   "cell_type": "code",
   "execution_count": 11,
   "metadata": {},
   "outputs": [],
   "source": [
    "# Allows passwords to be input without revealing them\n",
    "import getpass\n",
    "\n",
    "# Tool to encrypt text (passwords) // not designed for encrypt, just result matching\n",
    "from passlib.hash import pbkdf2_sha256\n",
    "\n",
    "# Tool to encrypt/decrypt text (Keepass passwords)\n",
    "# pip install pycryptodome\n",
    "from Crypto.Cipher import AES\n",
    "\n",
    "# Tool to read/write config text files\n",
    "try:\n",
    "    from configparser import ConfigParser\n",
    "except ImportError:\n",
    "    from ConfigParser import ConfigParser  # ver. < 3.0"
   ]
  },
  {
   "cell_type": "code",
   "execution_count": 15,
   "metadata": {},
   "outputs": [],
   "source": [
    "\n",
    "def createini(password, username):\n",
    "    ini_file_name = 'kp_config.ini' \n",
    "    hash_name = username + \"_hash\"\n",
    "    \n",
    "    # instantiate\n",
    "    config = ConfigParser()\n",
    "    \n",
    "    # parse existing file\n",
    "    with open(ini_file_name, 'w') as configfile:\n",
    "        config.write(configfile)\n",
    "\n",
    "    # parse existing file\n",
    "    config.read(ini_file_name)\n",
    "\n",
    "    # add a new section and some values\n",
    "    config.add_section('ENTRY 1')\n",
    "    config.set('ENTRY 1', hash_name, password)\n",
    "    #config.set('ENTRY 1', 'user1', username)\n",
    "\n",
    "    with open(ini_file_name, 'w') as configfile:\n",
    "        config.write(configfile)\n",
    "\n",
    "def verify_username(username):\n",
    "    hash_name = username + \"_hash\"\n",
    "    \n",
    "    # instantiate\n",
    "    config = ConfigParser()\n",
    "    \n",
    "    # parse existing file\n",
    "    config.read('kp_config.ini')\n",
    "    \n",
    "    # check if user exists\n",
    "    i = 0\n",
    "    while ((config.has_option('ENTRY 1', hash_name) == False) & (i < 5)):\n",
    "        print(\"\\nUsername incorrect, please try again.\")\n",
    "        hash_name = input(\"Confirm your username: \") + \"_hash\"\n",
    "        i += 1\n",
    "    \n",
    "    if (config.has_option('ENTRY 1', hash_name) == True):\n",
    "        print(\"\\n\\nUsername accepted.\")\n",
    "    else: \n",
    "        print(\"Too many tries. Please start over.\")\n",
    "        sys.exit()\n",
    "        \n",
    "def verify(username):\n",
    "    pw_verify = getpass.getpass(\"Confirm your password: \")\n",
    "    hash_name = username + \"_hash\"\n",
    "    \n",
    "    # instantiate\n",
    "    config = ConfigParser()\n",
    "    \n",
    "    # parse existing file\n",
    "    config.read('kp_config.ini')\n",
    "    \n",
    "    # read values from a section\n",
    "    read_hash = config.get('ENTRY 1', hash_name)\n",
    "    #read_user = config.get('ENTRY 1', 'user1')\n",
    "    #int_val = config.getint('section_a', 'int_val')\n",
    "    #float_val = config.getfloat('section_a', 'pi_val')\n",
    "    i = 0\n",
    "    while ((pbkdf2_sha256.verify(pw_verify, read_hash) == False) & (i < 5)):\n",
    "        print(\"\\nUsername or password incorrect, please try again.\")\n",
    "        pw_verify = getpass.getpass(\"Confirm your password: \")\n",
    "        i += 1\n",
    "        #while (pbkdf2_sha256.verify(pw_verify, read_hash) == False):\n",
    "    if (pbkdf2_sha256.verify(pw_verify, read_hash) == True):       \n",
    "        print(\"\\nThanks \" + username + \", your password was successful.\")\n",
    "    else:\n",
    "        print(\"Too many tries. Please start over.\")\n",
    "        \n",
    "def login(username, password):\n",
    "    hash_name = username + \"_hash\"\n",
    "    \n",
    "    # instantiate\n",
    "    config = ConfigParser()\n",
    "    \n",
    "    # parse existing file\n",
    "    config.read('kp_config.ini')\n",
    "    \n",
    "    # read values from a section\n",
    "    read_hash = config.get('ENTRY 1', hash_name)\n",
    "    #read_user = config.get('ENTRY 1', 'user1')\n",
    "    \n",
    "    i = 0\n",
    "    while ((pbkdf2_sha256.verify(password, read_hash) == False) & (i < 5)):\n",
    "        print(\"\\nUsername or password incorrect, please try again.\")\n",
    "        password = getpass.getpass(\"Confirm your password: \")\n",
    "        i += 1\n",
    "        #while (pbkdf2_sha256.verify(pw_verify, read_hash) == False):\n",
    "    \n",
    "    if (pbkdf2_sha256.verify(password, read_hash) == True):       \n",
    "        print(\"\\n\\nThanks \" + username + \" -- login successful.\")\n",
    "    else:\n",
    "        print(\"Too many tries. Please start over.\")\n",
    "        \n",
    "def main():\n",
    "    user = input(\"What is your username?\")\n",
    "    password = getpass.getpass(\"What is your password?\")\n",
    "    hash = pbkdf2_sha256.hash(password, rounds=500000, salt_size=16)\n",
    "    createini(hash, user)\n",
    "    verify(user)"
   ]
  },
  {
   "cell_type": "code",
   "execution_count": 16,
   "metadata": {},
   "outputs": [
    {
     "name": "stdin",
     "output_type": "stream",
     "text": [
      "What is your username? ben1\n",
      "What is your password? ····\n",
      "Confirm your password:  ····\n"
     ]
    },
    {
     "name": "stdout",
     "output_type": "stream",
     "text": [
      "\n",
      "Thanks ben1, your password was successful.\n"
     ]
    }
   ],
   "source": [
    "main()"
   ]
  },
  {
   "cell_type": "code",
   "execution_count": 17,
   "metadata": {},
   "outputs": [
    {
     "name": "stdin",
     "output_type": "stream",
     "text": [
      "Username:  ben\n"
     ]
    },
    {
     "name": "stdout",
     "output_type": "stream",
     "text": [
      "\n",
      "Username incorrect, please try again.\n"
     ]
    },
    {
     "name": "stdin",
     "output_type": "stream",
     "text": [
      "Confirm your username:  ben\n"
     ]
    },
    {
     "name": "stdout",
     "output_type": "stream",
     "text": [
      "\n",
      "Username incorrect, please try again.\n"
     ]
    },
    {
     "name": "stdin",
     "output_type": "stream",
     "text": [
      "Confirm your username:  ben\n"
     ]
    },
    {
     "name": "stdout",
     "output_type": "stream",
     "text": [
      "\n",
      "Username incorrect, please try again.\n"
     ]
    },
    {
     "name": "stdin",
     "output_type": "stream",
     "text": [
      "Confirm your username:  ben\n"
     ]
    },
    {
     "name": "stdout",
     "output_type": "stream",
     "text": [
      "\n",
      "Username incorrect, please try again.\n"
     ]
    },
    {
     "name": "stdin",
     "output_type": "stream",
     "text": [
      "Confirm your username:  ben\n"
     ]
    },
    {
     "name": "stdout",
     "output_type": "stream",
     "text": [
      "\n",
      "Username incorrect, please try again.\n"
     ]
    },
    {
     "name": "stdin",
     "output_type": "stream",
     "text": [
      "Confirm your username:  ben\n"
     ]
    },
    {
     "name": "stdout",
     "output_type": "stream",
     "text": [
      "Too many tries. Please start over.\n"
     ]
    },
    {
     "name": "stdin",
     "output_type": "stream",
     "text": [
      "Password:  ····\n"
     ]
    },
    {
     "ename": "NoOptionError",
     "evalue": "No option 'ben_hash' in section: 'ENTRY 1'",
     "output_type": "error",
     "traceback": [
      "\u001b[1;31m---------------------------------------------------------------------------\u001b[0m",
      "\u001b[1;31mKeyError\u001b[0m                                  Traceback (most recent call last)",
      "\u001b[1;32mc:\\users\\x00159799\\appdata\\local\\programs\\python\\python36\\lib\\configparser.py\u001b[0m in \u001b[0;36mget\u001b[1;34m(self, section, option, raw, vars, fallback)\u001b[0m\n\u001b[0;32m    788\u001b[0m         \u001b[1;32mtry\u001b[0m\u001b[1;33m:\u001b[0m\u001b[1;33m\u001b[0m\u001b[0m\n\u001b[1;32m--> 789\u001b[1;33m             \u001b[0mvalue\u001b[0m \u001b[1;33m=\u001b[0m \u001b[0md\u001b[0m\u001b[1;33m[\u001b[0m\u001b[0moption\u001b[0m\u001b[1;33m]\u001b[0m\u001b[1;33m\u001b[0m\u001b[0m\n\u001b[0m\u001b[0;32m    790\u001b[0m         \u001b[1;32mexcept\u001b[0m \u001b[0mKeyError\u001b[0m\u001b[1;33m:\u001b[0m\u001b[1;33m\u001b[0m\u001b[0m\n",
      "\u001b[1;32mc:\\users\\x00159799\\appdata\\local\\programs\\python\\python36\\lib\\collections\\__init__.py\u001b[0m in \u001b[0;36m__getitem__\u001b[1;34m(self, key)\u001b[0m\n\u001b[0;32m    882\u001b[0m                 \u001b[1;32mpass\u001b[0m\u001b[1;33m\u001b[0m\u001b[0m\n\u001b[1;32m--> 883\u001b[1;33m         \u001b[1;32mreturn\u001b[0m \u001b[0mself\u001b[0m\u001b[1;33m.\u001b[0m\u001b[0m__missing__\u001b[0m\u001b[1;33m(\u001b[0m\u001b[0mkey\u001b[0m\u001b[1;33m)\u001b[0m            \u001b[1;31m# support subclasses that define __missing__\u001b[0m\u001b[1;33m\u001b[0m\u001b[0m\n\u001b[0m\u001b[0;32m    884\u001b[0m \u001b[1;33m\u001b[0m\u001b[0m\n",
      "\u001b[1;32mc:\\users\\x00159799\\appdata\\local\\programs\\python\\python36\\lib\\collections\\__init__.py\u001b[0m in \u001b[0;36m__missing__\u001b[1;34m(self, key)\u001b[0m\n\u001b[0;32m    874\u001b[0m     \u001b[1;32mdef\u001b[0m \u001b[0m__missing__\u001b[0m\u001b[1;33m(\u001b[0m\u001b[0mself\u001b[0m\u001b[1;33m,\u001b[0m \u001b[0mkey\u001b[0m\u001b[1;33m)\u001b[0m\u001b[1;33m:\u001b[0m\u001b[1;33m\u001b[0m\u001b[0m\n\u001b[1;32m--> 875\u001b[1;33m         \u001b[1;32mraise\u001b[0m \u001b[0mKeyError\u001b[0m\u001b[1;33m(\u001b[0m\u001b[0mkey\u001b[0m\u001b[1;33m)\u001b[0m\u001b[1;33m\u001b[0m\u001b[0m\n\u001b[0m\u001b[0;32m    876\u001b[0m \u001b[1;33m\u001b[0m\u001b[0m\n",
      "\u001b[1;31mKeyError\u001b[0m: 'ben_hash'",
      "\nDuring handling of the above exception, another exception occurred:\n",
      "\u001b[1;31mNoOptionError\u001b[0m                             Traceback (most recent call last)",
      "\u001b[1;32m<ipython-input-17-3e18b8f7e135>\u001b[0m in \u001b[0;36m<module>\u001b[1;34m()\u001b[0m\n\u001b[0;32m      2\u001b[0m \u001b[0mverify_username\u001b[0m\u001b[1;33m(\u001b[0m\u001b[0mlogin_user\u001b[0m\u001b[1;33m)\u001b[0m\u001b[1;33m\u001b[0m\u001b[0m\n\u001b[0;32m      3\u001b[0m \u001b[0mlogin_pw\u001b[0m \u001b[1;33m=\u001b[0m \u001b[0mgetpass\u001b[0m\u001b[1;33m.\u001b[0m\u001b[0mgetpass\u001b[0m\u001b[1;33m(\u001b[0m\u001b[1;34m\"Password: \"\u001b[0m\u001b[1;33m)\u001b[0m\u001b[1;33m\u001b[0m\u001b[0m\n\u001b[1;32m----> 4\u001b[1;33m \u001b[0mlogin\u001b[0m\u001b[1;33m(\u001b[0m\u001b[0mlogin_user\u001b[0m\u001b[1;33m,\u001b[0m \u001b[0mlogin_pw\u001b[0m\u001b[1;33m)\u001b[0m\u001b[1;33m\u001b[0m\u001b[0m\n\u001b[0m",
      "\u001b[1;32m<ipython-input-15-466e0d0a2b31>\u001b[0m in \u001b[0;36mlogin\u001b[1;34m(username, password)\u001b[0m\n\u001b[0;32m     80\u001b[0m \u001b[1;33m\u001b[0m\u001b[0m\n\u001b[0;32m     81\u001b[0m     \u001b[1;31m# read values from a section\u001b[0m\u001b[1;33m\u001b[0m\u001b[1;33m\u001b[0m\u001b[0m\n\u001b[1;32m---> 82\u001b[1;33m     \u001b[0mread_hash\u001b[0m \u001b[1;33m=\u001b[0m \u001b[0mconfig\u001b[0m\u001b[1;33m.\u001b[0m\u001b[0mget\u001b[0m\u001b[1;33m(\u001b[0m\u001b[1;34m'ENTRY 1'\u001b[0m\u001b[1;33m,\u001b[0m \u001b[0mhash_name\u001b[0m\u001b[1;33m)\u001b[0m\u001b[1;33m\u001b[0m\u001b[0m\n\u001b[0m\u001b[0;32m     83\u001b[0m     \u001b[1;31m#read_user = config.get('ENTRY 1', 'user1')\u001b[0m\u001b[1;33m\u001b[0m\u001b[1;33m\u001b[0m\u001b[0m\n\u001b[0;32m     84\u001b[0m \u001b[1;33m\u001b[0m\u001b[0m\n",
      "\u001b[1;32mc:\\users\\x00159799\\appdata\\local\\programs\\python\\python36\\lib\\configparser.py\u001b[0m in \u001b[0;36mget\u001b[1;34m(self, section, option, raw, vars, fallback)\u001b[0m\n\u001b[0;32m    790\u001b[0m         \u001b[1;32mexcept\u001b[0m \u001b[0mKeyError\u001b[0m\u001b[1;33m:\u001b[0m\u001b[1;33m\u001b[0m\u001b[0m\n\u001b[0;32m    791\u001b[0m             \u001b[1;32mif\u001b[0m \u001b[0mfallback\u001b[0m \u001b[1;32mis\u001b[0m \u001b[0m_UNSET\u001b[0m\u001b[1;33m:\u001b[0m\u001b[1;33m\u001b[0m\u001b[0m\n\u001b[1;32m--> 792\u001b[1;33m                 \u001b[1;32mraise\u001b[0m \u001b[0mNoOptionError\u001b[0m\u001b[1;33m(\u001b[0m\u001b[0moption\u001b[0m\u001b[1;33m,\u001b[0m \u001b[0msection\u001b[0m\u001b[1;33m)\u001b[0m\u001b[1;33m\u001b[0m\u001b[0m\n\u001b[0m\u001b[0;32m    793\u001b[0m             \u001b[1;32melse\u001b[0m\u001b[1;33m:\u001b[0m\u001b[1;33m\u001b[0m\u001b[0m\n\u001b[0;32m    794\u001b[0m                 \u001b[1;32mreturn\u001b[0m \u001b[0mfallback\u001b[0m\u001b[1;33m\u001b[0m\u001b[0m\n",
      "\u001b[1;31mNoOptionError\u001b[0m: No option 'ben_hash' in section: 'ENTRY 1'"
     ]
    }
   ],
   "source": [
    "login_user = input(\"Username: \")\n",
    "verify_username(login_user)\n",
    "login_pw = getpass.getpass(\"Password: \")\n",
    "login(login_user, login_pw)"
   ]
  },
  {
   "cell_type": "markdown",
   "metadata": {},
   "source": [
    "## Basic (non-python) format to pass to CMD to start KeePass\n",
    "\n",
    "**DB using Key:** SHELLCOMMAND \"KeePassPath + KeePassFileName.exe\" \"DBpath + DBfileName\" \" - preselect:\" + \"DBKeyPath + DBKeyFileName.key\"\n",
    "\n",
    "**DB normal:** SHELLCOMMAND \"KeePassPath + KeePassFileName.exe\" \"DBpath + DBfileName\"\n",
    "\n",
    "---------------------------------------------\n",
    "**Plain copy from VBS script:**\n",
    "- wshshell.run (chr(34) + KPLocation + KPFileName + chr(34) + chr(34) + path + file + chr(34) + \" -preselect:\" + chr(34) + key_path + key_file + chr(34))"
   ]
  },
  {
   "cell_type": "markdown",
   "metadata": {},
   "source": [
    "## Below is an example of AES encoding of the text\n",
    "- I will probably use this for encoding the KeePass passwords\n",
    "- Example from: https://stackoverflow.com/questions/27335726/how-do-i-encrypt-and-decrypt-a-string-in-python\n",
    "- More info: https://stackoverflow.com/questions/20852664/python-pycrypto-encrypt-decrypt-text-files-with-aes"
   ]
  },
  {
   "cell_type": "code",
   "execution_count": 11,
   "metadata": {},
   "outputs": [],
   "source": [
    "# WHOLE EXAMPLE TEXT FROM WEBSITE:\n",
    "\n",
    "# obj = AES.new('This is a key123', AES.MODE_CFB, 'This is an IV456')\n",
    "# message = \"The answer is no\"\n",
    "# ciphertext = obj.encrypt(message)\n",
    "# ciphertext\n",
    "# '\\xd6\\x83\\x8dd!VT\\x92\\xaa`A\\x05\\xe0\\x9b\\x8b\\xf1'\n",
    "# obj2 = AES.new('This is a key123', AES.MODE_CFB, 'This is an IV456')\n",
    "# obj2.decrypt(ciphertext)\n",
    "# 'The answer is no'"
   ]
  },
  {
   "cell_type": "code",
   "execution_count": 15,
   "metadata": {},
   "outputs": [
    {
     "data": {
      "text/plain": [
       "b'\\xd9\\xfe_<d<\\xfa\\x0f\\xfbo%\\x17\\x99\\x001\\x1f'"
      ]
     },
     "execution_count": 15,
     "metadata": {},
     "output_type": "execute_result"
    }
   ],
   "source": [
    "# FUNCTIONING EXAMPLE PART 1\n",
    "\n",
    "obj = AES.new('This is a key123', AES.MODE_CFB, 'This is an IV456')\n",
    "message = \"The answer is no\"\n",
    "ciphertext = obj.encrypt(message)\n",
    "ciphertext"
   ]
  },
  {
   "cell_type": "code",
   "execution_count": 16,
   "metadata": {},
   "outputs": [
    {
     "data": {
      "text/plain": [
       "b'The answer is no'"
      ]
     },
     "execution_count": 16,
     "metadata": {},
     "output_type": "execute_result"
    }
   ],
   "source": [
    "# FUNCTIONING EXAMPLE PART 2\n",
    "\n",
    "obj2 = AES.new('This is a key123', AES.MODE_CFB, 'This is an IV456')\n",
    "obj2.decrypt(ciphertext)"
   ]
  },
  {
   "cell_type": "raw",
   "metadata": {},
   "source": [
    "#SET AS RAW, DOESN'T RUN\n",
    "\n",
    "try:\n",
    "    from configparser import ConfigParser\n",
    "except ImportError:\n",
    "    from ConfigParser import ConfigParser  # ver. < 3.0\n",
    "\n",
    "# instantiate\n",
    "config = ConfigParser()\n",
    "\n",
    "# parse existing file\n",
    "config.read('test.ini')\n",
    "\n",
    "# read values from a section\n",
    "string_val = config.get('section_a', 'string_val')\n",
    "bool_val = config.getboolean('section_a', 'bool_val')\n",
    "int_val = config.getint('section_a', 'int_val')\n",
    "float_val = config.getfloat('section_a', 'pi_val')\n",
    "\n",
    "# update existing value\n",
    "config.set('section_a', 'string_val', 'world')\n",
    "config.set('section_a', 'bool_val', hash)\n",
    "config.set('section_a', 'int_val', user)\n",
    "\n",
    "# add a new section and some values\n",
    "config.add_section('section_b')\n",
    "config.set('section_b', 'meal_val', 'spam')\n",
    "config.set('section_b', 'not_found_val', \"404\")\n",
    "\n",
    "# save to a file\n",
    "with open('test_update.ini', 'w') as configfile:\n",
    "    config.write(configfile)"
   ]
  },
  {
   "cell_type": "raw",
   "metadata": {},
   "source": [
    "#SET AS RAW, DOESN'T RUN\n",
    "\n",
    "try:\n",
    "    from configparser import ConfigParser\n",
    "except ImportError:\n",
    "    from ConfigParser import ConfigParser  # ver. < 3.0\n",
    "\n",
    "# instantiate\n",
    "config = ConfigParser()\n",
    "\n",
    "# parse existing file\n",
    "config.read('test_new.ini')\n",
    "\n",
    "# add a new section and some values\n",
    "config.add_section('section_b')\n",
    "config.set('section_b', 'meal_val', hash)\n",
    "config.set('section_b', 'not_found_val', user)\n",
    "config.close\n",
    "\n",
    "# read values from a section\n",
    "string_val = config.get('section_a', 'string_val')\n",
    "bool_val = config.getboolean('section_a', 'bool_val')\n",
    "int_val = config.getint('section_a', 'int_val')\n",
    "float_val = config.getfloat('section_a', 'pi_val')\n",
    "\n",
    "# update existing value\n",
    "config.set('section_a', 'string_val', 'world')\n",
    "config.set('section_a', 'bool_val', hash)\n",
    "config.set('section_a', 'int_val', user)\n",
    "\n",
    "# add a new section and some values\n",
    "config.add_section('section_b')\n",
    "config.set('section_b', 'meal_val', 'spam')\n",
    "config.set('section_b', 'not_found_val', \"404\")\n",
    "\n",
    "# save to a file\n",
    "with open('test_update.ini', 'w') as configfile:\n",
    "    config.write(configfile)"
   ]
  }
 ],
 "metadata": {
  "kernelspec": {
   "display_name": "Python 3",
   "language": "python",
   "name": "python3"
  },
  "language_info": {
   "codemirror_mode": {
    "name": "ipython",
    "version": 3
   },
   "file_extension": ".py",
   "mimetype": "text/x-python",
   "name": "python",
   "nbconvert_exporter": "python",
   "pygments_lexer": "ipython3",
   "version": "3.6.3"
  }
 },
 "nbformat": 4,
 "nbformat_minor": 2
}
