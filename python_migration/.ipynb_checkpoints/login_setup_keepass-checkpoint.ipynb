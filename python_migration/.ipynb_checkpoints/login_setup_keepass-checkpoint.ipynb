{
 "cells": [
  {
   "cell_type": "markdown",
   "metadata": {},
   "source": [
    "### Keepass Specific\n",
    "- Only a password is needed\n",
    "- All references to a username in code/functions removed"
   ]
  },
  {
   "cell_type": "code",
   "execution_count": null,
   "metadata": {},
   "outputs": [],
   "source": [
    "# Allows passwords to be input without revealing them\n",
    "import getpass\n",
    "\n",
    "# Tool to encrypt text (passwords) // not designed for encrypt, just result matching\n",
    "from passlib.hash import pbkdf2_sha256\n",
    "\n",
    "# Tool to encrypt/decrypt text (Keepass passwords)\n",
    "# pip install pycryptodome\n",
    "from Crypto.Cipher import AES\n",
    "\n",
    "# Tool to read/write config text files\n",
    "try:\n",
    "    from configparser import ConfigParser\n",
    "except ImportError:\n",
    "    from ConfigParser import ConfigParser  # ver. < 3.0"
   ]
  },
  {
   "cell_type": "code",
   "execution_count": null,
   "metadata": {},
   "outputs": [],
   "source": [
    "def createini(password):\n",
    "    ini_file_name = 'kp_config.ini' \n",
    "    \n",
    "    # instantiate\n",
    "    config = ConfigParser()\n",
    "    \n",
    "    # parse existing file\n",
    "    with open(ini_file_name, 'w') as configfile:\n",
    "        config.write(configfile)\n",
    "\n",
    "    # parse existing file\n",
    "    config.read(ini_file_name)\n",
    "\n",
    "    # add a new section and some values\n",
    "    config.add_section('ENTRY 1')\n",
    "    config.set('ENTRY 1', 'keepass_hash', password)\n",
    "    #config.set('ENTRY 1', 'user1', username)\n",
    "\n",
    "    with open(ini_file_name, 'w') as configfile:\n",
    "        config.write(configfile)\n",
    "        \n",
    "def verify():\n",
    "    pw_verify = getpass.getpass(\"Confirm your password: \")\n",
    "\n",
    "    # instantiate\n",
    "    config = ConfigParser()\n",
    "    \n",
    "    # parse existing file\n",
    "    config.read('kp_config.ini')\n",
    "    \n",
    "    # read values from a section\n",
    "    read_hash = config.get('ENTRY 1', 'keepass_hash')\n",
    "    #read_user = config.get('ENTRY 1', 'user1')\n",
    "    #int_val = config.getint('section_a', 'int_val')\n",
    "    #float_val = config.getfloat('section_a', 'pi_val')\n",
    "    i = 0\n",
    "    while ((pbkdf2_sha256.verify(pw_verify, read_hash) == False) & (i < 5)):\n",
    "        print(\"\\nUsername or password incorrect, please try again.\")\n",
    "        pw_verify = getpass.getpass(\"Confirm your password: \")\n",
    "        i += 1\n",
    "        #while (pbkdf2_sha256.verify(pw_verify, read_hash) == False):\n",
    "    if (pbkdf2_sha256.verify(pw_verify, read_hash) == True):       \n",
    "        print(\"\\nPassword successful.\")\n",
    "    else:\n",
    "        print(\"Too many tries. Please start over.\")\n",
    "        \n",
    "def login(password):   \n",
    "    # instantiate\n",
    "    config = ConfigParser()\n",
    "    \n",
    "    # parse existing file\n",
    "    config.read('kp_config.ini')\n",
    "    \n",
    "    # read values from a section\n",
    "    read_hash = config.get('ENTRY 1', 'keepass_hash')\n",
    "    #read_user = config.get('ENTRY 1', 'user1')\n",
    "    \n",
    "    i = 0\n",
    "    while ((pbkdf2_sha256.verify(password, read_hash) == False) & (i < 5)):\n",
    "        print(\"\\nUsername or password incorrect, please try again.\")\n",
    "        password = getpass.getpass(\"Confirm your password: \")\n",
    "        i += 1\n",
    "        #while (pbkdf2_sha256.verify(pw_verify, read_hash) == False):\n",
    "    \n",
    "    if (pbkdf2_sha256.verify(password, read_hash) == True):       \n",
    "        print(\"\\n\\nSuccess.\")\n",
    "    else:\n",
    "        print(\"Too many tries. Please start over.\")\n",
    "        \n",
    "def main():\n",
    "    password = getpass.getpass(\"What is your password?\")\n",
    "    hash = pbkdf2_sha256.hash(password, rounds=500000, salt_size=16)\n",
    "    createini(hash)\n",
    "    verify()"
   ]
  },
  {
   "cell_type": "code",
   "execution_count": null,
   "metadata": {},
   "outputs": [],
   "source": [
    "main()"
   ]
  },
  {
   "cell_type": "code",
   "execution_count": null,
   "metadata": {},
   "outputs": [],
   "source": [
    "login_pw = getpass.getpass(\"Password: \")\n",
    "login(login_pw)"
   ]
  }
 ],
 "metadata": {
  "kernelspec": {
   "display_name": "Python 3",
   "language": "python",
   "name": "python3"
  },
  "language_info": {
   "codemirror_mode": {
    "name": "ipython",
    "version": 3
   },
   "file_extension": ".py",
   "mimetype": "text/x-python",
   "name": "python",
   "nbconvert_exporter": "python",
   "pygments_lexer": "ipython3",
   "version": "3.6.3"
  }
 },
 "nbformat": 4,
 "nbformat_minor": 2
}
