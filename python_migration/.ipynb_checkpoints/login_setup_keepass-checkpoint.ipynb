{
 "cells": [
  {
   "cell_type": "markdown",
   "metadata": {},
   "source": [
    "### Keepass Specific\n",
    "- Only a password is needed\n",
    "- All references to a username in code/functions removed"
   ]
  },
  {
   "cell_type": "code",
   "execution_count": 13,
   "metadata": {},
   "outputs": [],
   "source": [
    "def variables():\n",
    "    KEEPASS_PATH = ReadINI(\"KEEPASS_PATH\")\n",
    "    KEEPASS_PATH_ALT = ReadINI(\"KEEPASS_PATH_ALT\")\n",
    "    KEEPASS_PATH_SYS = ReadINI(\"KEEPASS_PATH_SYS\")\n",
    "    KPFileName = ReadINI(\"KEEPASS_APP\")\n",
    "\n",
    "    KP1_PATH = ReadINI(\"KP1_PATH\")\n",
    "    KP1_FILE = ReadINI(\"KP1_FILE\")\n",
    "    KP1_ENCRYPT_HASH = ReadINI(\"KP1_ENCRYPT_HASH\")\n",
    "\n",
    "    KP2_PATH = ReadINI(\"KP2_PATH\")\n",
    "    KP2_FILE = ReadINI(\"KP2_FILE\")\n",
    "    KP2_ENCRYPT_HASH = ReadINI(\"KP2_ENCRYPT_HASH\")\n",
    "\n",
    "    KP3_PATH = ReadINI(\"KP3_PATH\")\n",
    "    KP3_FILE = ReadINI(\"KP3_FILE\")\n",
    "    KP3_ENCRYPT_HASH = ReadINI(\"KP3_ENCRYPT_HASH\")\n",
    "    KP3_KEY_PATH = ReadINI(\"KP3_KEY_PATH\")\n",
    "    KP3_KEY = ReadINI(\"KP3_KEY\")"
   ]
  },
  {
   "cell_type": "code",
   "execution_count": 14,
   "metadata": {},
   "outputs": [],
   "source": [
    "# Allows CMD line statements to be run\n",
    "import os\n",
    "\n",
    "# Allows passwords to be input without revealing them\n",
    "import getpass\n",
    "\n",
    "# Tool to encrypt text (passwords) // not designed for encrypt, just result matching\n",
    "from passlib.hash import pbkdf2_sha256\n",
    "\n",
    "# Tool to encrypt/decrypt text (Keepass passwords)\n",
    "# pip install pycryptodome\n",
    "from Crypto.Cipher import AES\n",
    "\n",
    "# Tool to read/write config text files\n",
    "try:\n",
    "    from configparser import ConfigParser\n",
    "except ImportError:\n",
    "    from ConfigParser import ConfigParser  # ver. < 3.0"
   ]
  },
  {
   "cell_type": "code",
   "execution_count": 27,
   "metadata": {},
   "outputs": [],
   "source": [
    "def createini(password):\n",
    "    ini_file_name = 'kp_config.ini' \n",
    "    \n",
    "    # instantiate\n",
    "    config = ConfigParser()\n",
    "    \n",
    "    # parse existing file\n",
    "    with open(ini_file_name, 'w') as configfile:\n",
    "        config.write(configfile)\n",
    "\n",
    "    # parse existing file\n",
    "    config.read(ini_file_name)\n",
    "\n",
    "    # add a new section and some values\n",
    "    config.add_section('KEEPASS_CREDENTIALS')\n",
    "    config.set('KEEPASS_CREDENTIALS', 'keepass_hash', password)\n",
    "    #config.set('ENTRY 1', 'user1', username)\n",
    "\n",
    "    with open(ini_file_name, 'w') as configfile:\n",
    "        config.write(configfile)\n",
    "        \n",
    "def verify():\n",
    "    pw_verify = getpass.getpass(\"Confirm your password: \")\n",
    "\n",
    "    # instantiate\n",
    "    config = ConfigParser()\n",
    "    \n",
    "    # parse existing file\n",
    "    config.read('kp_config.ini')\n",
    "    \n",
    "    # read values from a section\n",
    "    read_hash = config.get('KEEPASS_CREDENTIALS', 'KP1_HASH')\n",
    "    #read_user = config.get('ENTRY 1', 'user1')\n",
    "    #int_val = config.getint('section_a', 'int_val')\n",
    "    #float_val = config.getfloat('section_a', 'pi_val')\n",
    "    i = 0\n",
    "    while ((pbkdf2_sha256.verify(pw_verify, read_hash) == False) & (i < 5)):\n",
    "        print(\"\\nUsername or password incorrect, please try again.\")\n",
    "        pw_verify = getpass.getpass(\"Confirm your password: \")\n",
    "        i += 1\n",
    "        #while (pbkdf2_sha256.verify(pw_verify, read_hash) == False):\n",
    "    if (pbkdf2_sha256.verify(pw_verify, read_hash) == True):       \n",
    "        print(\"\\nPassword successful.\")\n",
    "    else:\n",
    "        print(\"Too many tries. Please start over.\")\n",
    "        \n",
    "def login(password):   \n",
    "    # instantiate\n",
    "    config = ConfigParser()\n",
    "    \n",
    "    # parse existing file\n",
    "    config.read('kp_config.ini')\n",
    "    \n",
    "    # read values from a section\n",
    "    read_hash = config.get('KEEPASS_CREDENTIALS', 'KP1_HASH')\n",
    "    #read_user = config.get('ENTRY 1', 'user1')\n",
    "    \n",
    "    i = 0\n",
    "    while ((pbkdf2_sha256.verify(password, read_hash) == False) & (i < 5)):\n",
    "        print(\"\\nUsername or password incorrect, please try again.\")\n",
    "        password = getpass.getpass(\"Confirm your password: \")\n",
    "        i += 1\n",
    "        #while (pbkdf2_sha256.verify(pw_verify, read_hash) == False):\n",
    "    \n",
    "    if (pbkdf2_sha256.verify(password, read_hash) == True):       \n",
    "        print(\"\\n\\nSuccess.\")\n",
    "    else:\n",
    "        print(\"Too many tries. Please start over.\")\n",
    "        \n",
    "def encrypt_password(password):\n",
    "    return pbkdf2_sha256.hash(password, rounds=500000, salt_size=16)\n",
    "\n",
    "def test_password():\n",
    "    next_step = \"\"\n",
    "    while ((next_step != \"yes\") & (next_step != \"no\")):\n",
    "        next_step = input(\"Do you want to test login as well? (yes/no)\")\n",
    "        if (next_step == \"yes\"):\n",
    "            login_pw = getpass.getpass(\"Password: \")\n",
    "            login(login_pw)\n",
    "        elif (next_step == \"no\"):\n",
    "            print(\"Test is complete then.\")\n",
    "        else:\n",
    "            print(\"Input must be 'yes' or 'no'.\")\n",
    "        \n",
    "def main():\n",
    "    password_hash = encrypt_password(getpass.getpass(\"What is your password?\"))\n",
    "    createini(password_hash)\n",
    "    verify()\n",
    "    test_password()\n",
    "    "
   ]
  },
  {
   "cell_type": "code",
   "execution_count": 28,
   "metadata": {},
   "outputs": [],
   "source": [
    "def keepass_login(keepass_account):\n",
    "    ini_file = \"kp_config_logins.ini\"\n",
    "    account_path = keepass_account + \"_PATH\"\n",
    "    account_file = keepass_account + \"_FILE\"\n",
    "    account_hash = keepass_account + \"_ENCRYPT_HASH\"\n",
    "    \n",
    "    # instantiate\n",
    "    config = ConfigParser()\n",
    "\n",
    "    # parse existing file\n",
    "    config.read('kp_config_logins.ini')\n",
    "\n",
    "    # read values\n",
    "    path = config.get('KEEPASS_CREDENTIALS', account_path)\n",
    "    print(path)\n",
    "    file = config.get('KEEPASS_CREDENTIALS', account_file)\n",
    "    print(file)\n",
    "    hash = config.get('KEEPASS_CREDENTIALS', account_hash)\n",
    "    print(hash)\n",
    "    keepass_path = config.get('KEEPASS_EXE', 'KEEPASS_PATH')\n",
    "    keepass_file = config.get('KEEPASS_EXE', 'KEEPASS_APP')\n",
    "    \n",
    "    print((chr(34) + keepass_path + keepass_file + chr(34) + chr(34) + path + file + chr(34)))\n",
    "    \n",
    "    # \"hash\" needs to be replaced by the decrypt function... decypt_hash(hash)\n",
    "    # instruction comes from: https://keepass.info/help/base/cmdline.html\n",
    "    os.system(keepass_path + keepass_file + \" \" + chr(34) + path + file + chr(34) + \" -pw:\" + hash)"
   ]
  },
  {
   "cell_type": "code",
   "execution_count": 29,
   "metadata": {},
   "outputs": [
    {
     "name": "stdout",
     "output_type": "stream",
     "text": [
      "/\n",
      "test.kdbx\n",
      "\n",
      "\"C:\\KeePass-Modified\\Keepass.exe\"\"/test.kdbx\"\n"
     ]
    }
   ],
   "source": [
    "keepass_login(\"KP1\")"
   ]
  },
  {
   "cell_type": "code",
   "execution_count": 30,
   "metadata": {},
   "outputs": [
    {
     "name": "stdin",
     "output_type": "stream",
     "text": [
      "What is your password? ············\n",
      "Confirm your password:  ············\n"
     ]
    },
    {
     "name": "stdout",
     "output_type": "stream",
     "text": [
      "\n",
      "Password successful.\n"
     ]
    },
    {
     "name": "stdin",
     "output_type": "stream",
     "text": [
      "Do you want to test login as well? (yes/no) yes\n",
      "Password:  ············\n"
     ]
    },
    {
     "ename": "NoOptionError",
     "evalue": "No option 'kp1_path' in section: 'KEEPASS_CREDENTIALS'",
     "output_type": "error",
     "traceback": [
      "\u001b[1;31m---------------------------------------------------------------------------\u001b[0m",
      "\u001b[1;31mKeyError\u001b[0m                                  Traceback (most recent call last)",
      "\u001b[1;32m~\\AppData\\Local\\Continuum\\anaconda3\\lib\\configparser.py\u001b[0m in \u001b[0;36mget\u001b[1;34m(self, section, option, raw, vars, fallback)\u001b[0m\n\u001b[0;32m    787\u001b[0m         \u001b[1;32mtry\u001b[0m\u001b[1;33m:\u001b[0m\u001b[1;33m\u001b[0m\u001b[1;33m\u001b[0m\u001b[0m\n\u001b[1;32m--> 788\u001b[1;33m             \u001b[0mvalue\u001b[0m \u001b[1;33m=\u001b[0m \u001b[0md\u001b[0m\u001b[1;33m[\u001b[0m\u001b[0moption\u001b[0m\u001b[1;33m]\u001b[0m\u001b[1;33m\u001b[0m\u001b[1;33m\u001b[0m\u001b[0m\n\u001b[0m\u001b[0;32m    789\u001b[0m         \u001b[1;32mexcept\u001b[0m \u001b[0mKeyError\u001b[0m\u001b[1;33m:\u001b[0m\u001b[1;33m\u001b[0m\u001b[1;33m\u001b[0m\u001b[0m\n",
      "\u001b[1;32m~\\AppData\\Local\\Continuum\\anaconda3\\lib\\collections\\__init__.py\u001b[0m in \u001b[0;36m__getitem__\u001b[1;34m(self, key)\u001b[0m\n\u001b[0;32m    913\u001b[0m                 \u001b[1;32mpass\u001b[0m\u001b[1;33m\u001b[0m\u001b[1;33m\u001b[0m\u001b[0m\n\u001b[1;32m--> 914\u001b[1;33m         \u001b[1;32mreturn\u001b[0m \u001b[0mself\u001b[0m\u001b[1;33m.\u001b[0m\u001b[0m__missing__\u001b[0m\u001b[1;33m(\u001b[0m\u001b[0mkey\u001b[0m\u001b[1;33m)\u001b[0m            \u001b[1;31m# support subclasses that define __missing__\u001b[0m\u001b[1;33m\u001b[0m\u001b[1;33m\u001b[0m\u001b[0m\n\u001b[0m\u001b[0;32m    915\u001b[0m \u001b[1;33m\u001b[0m\u001b[0m\n",
      "\u001b[1;32m~\\AppData\\Local\\Continuum\\anaconda3\\lib\\collections\\__init__.py\u001b[0m in \u001b[0;36m__missing__\u001b[1;34m(self, key)\u001b[0m\n\u001b[0;32m    905\u001b[0m     \u001b[1;32mdef\u001b[0m \u001b[0m__missing__\u001b[0m\u001b[1;33m(\u001b[0m\u001b[0mself\u001b[0m\u001b[1;33m,\u001b[0m \u001b[0mkey\u001b[0m\u001b[1;33m)\u001b[0m\u001b[1;33m:\u001b[0m\u001b[1;33m\u001b[0m\u001b[1;33m\u001b[0m\u001b[0m\n\u001b[1;32m--> 906\u001b[1;33m         \u001b[1;32mraise\u001b[0m \u001b[0mKeyError\u001b[0m\u001b[1;33m(\u001b[0m\u001b[0mkey\u001b[0m\u001b[1;33m)\u001b[0m\u001b[1;33m\u001b[0m\u001b[1;33m\u001b[0m\u001b[0m\n\u001b[0m\u001b[0;32m    907\u001b[0m \u001b[1;33m\u001b[0m\u001b[0m\n",
      "\u001b[1;31mKeyError\u001b[0m: 'kp1_path'",
      "\nDuring handling of the above exception, another exception occurred:\n",
      "\u001b[1;31mNoOptionError\u001b[0m                             Traceback (most recent call last)",
      "\u001b[1;32m<ipython-input-30-263240bbee7e>\u001b[0m in \u001b[0;36m<module>\u001b[1;34m\u001b[0m\n\u001b[1;32m----> 1\u001b[1;33m \u001b[0mmain\u001b[0m\u001b[1;33m(\u001b[0m\u001b[1;33m)\u001b[0m\u001b[1;33m\u001b[0m\u001b[1;33m\u001b[0m\u001b[0m\n\u001b[0m",
      "\u001b[1;32m<ipython-input-27-2f1b4253fff3>\u001b[0m in \u001b[0;36mmain\u001b[1;34m()\u001b[0m\n\u001b[0;32m     87\u001b[0m     \u001b[0mcreateini\u001b[0m\u001b[1;33m(\u001b[0m\u001b[0mpassword_hash\u001b[0m\u001b[1;33m)\u001b[0m\u001b[1;33m\u001b[0m\u001b[1;33m\u001b[0m\u001b[0m\n\u001b[0;32m     88\u001b[0m     \u001b[0mverify\u001b[0m\u001b[1;33m(\u001b[0m\u001b[1;33m)\u001b[0m\u001b[1;33m\u001b[0m\u001b[1;33m\u001b[0m\u001b[0m\n\u001b[1;32m---> 89\u001b[1;33m     \u001b[0mtest_password\u001b[0m\u001b[1;33m(\u001b[0m\u001b[1;33m)\u001b[0m\u001b[1;33m\u001b[0m\u001b[1;33m\u001b[0m\u001b[0m\n\u001b[0m\u001b[0;32m     90\u001b[0m \u001b[1;33m\u001b[0m\u001b[0m\n",
      "\u001b[1;32m<ipython-input-27-2f1b4253fff3>\u001b[0m in \u001b[0;36mtest_password\u001b[1;34m()\u001b[0m\n\u001b[0;32m     77\u001b[0m         \u001b[1;32mif\u001b[0m \u001b[1;33m(\u001b[0m\u001b[0mnext_step\u001b[0m \u001b[1;33m==\u001b[0m \u001b[1;34m\"yes\"\u001b[0m\u001b[1;33m)\u001b[0m\u001b[1;33m:\u001b[0m\u001b[1;33m\u001b[0m\u001b[1;33m\u001b[0m\u001b[0m\n\u001b[0;32m     78\u001b[0m             \u001b[0mlogin_pw\u001b[0m \u001b[1;33m=\u001b[0m \u001b[0mgetpass\u001b[0m\u001b[1;33m.\u001b[0m\u001b[0mgetpass\u001b[0m\u001b[1;33m(\u001b[0m\u001b[1;34m\"Password: \"\u001b[0m\u001b[1;33m)\u001b[0m\u001b[1;33m\u001b[0m\u001b[1;33m\u001b[0m\u001b[0m\n\u001b[1;32m---> 79\u001b[1;33m             \u001b[0mlogin\u001b[0m\u001b[1;33m(\u001b[0m\u001b[0mlogin_pw\u001b[0m\u001b[1;33m)\u001b[0m\u001b[1;33m\u001b[0m\u001b[1;33m\u001b[0m\u001b[0m\n\u001b[0m\u001b[0;32m     80\u001b[0m         \u001b[1;32melif\u001b[0m \u001b[1;33m(\u001b[0m\u001b[0mnext_step\u001b[0m \u001b[1;33m==\u001b[0m \u001b[1;34m\"no\"\u001b[0m\u001b[1;33m)\u001b[0m\u001b[1;33m:\u001b[0m\u001b[1;33m\u001b[0m\u001b[1;33m\u001b[0m\u001b[0m\n\u001b[0;32m     81\u001b[0m             \u001b[0mprint\u001b[0m\u001b[1;33m(\u001b[0m\u001b[1;34m\"Test is complete then.\"\u001b[0m\u001b[1;33m)\u001b[0m\u001b[1;33m\u001b[0m\u001b[1;33m\u001b[0m\u001b[0m\n",
      "\u001b[1;32m<ipython-input-27-2f1b4253fff3>\u001b[0m in \u001b[0;36mlogin\u001b[1;34m(password)\u001b[0m\n\u001b[0;32m     53\u001b[0m \u001b[1;33m\u001b[0m\u001b[0m\n\u001b[0;32m     54\u001b[0m     \u001b[1;31m# read values from a section\u001b[0m\u001b[1;33m\u001b[0m\u001b[1;33m\u001b[0m\u001b[1;33m\u001b[0m\u001b[0m\n\u001b[1;32m---> 55\u001b[1;33m     \u001b[0mread_hash\u001b[0m \u001b[1;33m=\u001b[0m \u001b[0mconfig\u001b[0m\u001b[1;33m.\u001b[0m\u001b[0mget\u001b[0m\u001b[1;33m(\u001b[0m\u001b[1;34m'KEEPASS_CREDENTIALS'\u001b[0m\u001b[1;33m,\u001b[0m \u001b[1;34m'KP1_PATH'\u001b[0m\u001b[1;33m)\u001b[0m\u001b[1;33m\u001b[0m\u001b[1;33m\u001b[0m\u001b[0m\n\u001b[0m\u001b[0;32m     56\u001b[0m     \u001b[1;31m#read_user = config.get('ENTRY 1', 'user1')\u001b[0m\u001b[1;33m\u001b[0m\u001b[1;33m\u001b[0m\u001b[1;33m\u001b[0m\u001b[0m\n\u001b[0;32m     57\u001b[0m \u001b[1;33m\u001b[0m\u001b[0m\n",
      "\u001b[1;32m~\\AppData\\Local\\Continuum\\anaconda3\\lib\\configparser.py\u001b[0m in \u001b[0;36mget\u001b[1;34m(self, section, option, raw, vars, fallback)\u001b[0m\n\u001b[0;32m    789\u001b[0m         \u001b[1;32mexcept\u001b[0m \u001b[0mKeyError\u001b[0m\u001b[1;33m:\u001b[0m\u001b[1;33m\u001b[0m\u001b[1;33m\u001b[0m\u001b[0m\n\u001b[0;32m    790\u001b[0m             \u001b[1;32mif\u001b[0m \u001b[0mfallback\u001b[0m \u001b[1;32mis\u001b[0m \u001b[0m_UNSET\u001b[0m\u001b[1;33m:\u001b[0m\u001b[1;33m\u001b[0m\u001b[1;33m\u001b[0m\u001b[0m\n\u001b[1;32m--> 791\u001b[1;33m                 \u001b[1;32mraise\u001b[0m \u001b[0mNoOptionError\u001b[0m\u001b[1;33m(\u001b[0m\u001b[0moption\u001b[0m\u001b[1;33m,\u001b[0m \u001b[0msection\u001b[0m\u001b[1;33m)\u001b[0m\u001b[1;33m\u001b[0m\u001b[1;33m\u001b[0m\u001b[0m\n\u001b[0m\u001b[0;32m    792\u001b[0m             \u001b[1;32melse\u001b[0m\u001b[1;33m:\u001b[0m\u001b[1;33m\u001b[0m\u001b[1;33m\u001b[0m\u001b[0m\n\u001b[0;32m    793\u001b[0m                 \u001b[1;32mreturn\u001b[0m \u001b[0mfallback\u001b[0m\u001b[1;33m\u001b[0m\u001b[1;33m\u001b[0m\u001b[0m\n",
      "\u001b[1;31mNoOptionError\u001b[0m: No option 'kp1_path' in section: 'KEEPASS_CREDENTIALS'"
     ]
    }
   ],
   "source": [
    "main()"
   ]
  },
  {
   "cell_type": "code",
   "execution_count": null,
   "metadata": {},
   "outputs": [],
   "source": [
    "login_pw = getpass.getpass(\"Password: \")\n",
    "login(login_pw)"
   ]
  },
  {
   "cell_type": "code",
   "execution_count": null,
   "metadata": {},
   "outputs": [],
   "source": [
    "os.system('')"
   ]
  }
 ],
 "metadata": {
  "kernelspec": {
   "display_name": "Python 3",
   "language": "python",
   "name": "python3"
  },
  "language_info": {
   "codemirror_mode": {
    "name": "ipython",
    "version": 3
   },
   "file_extension": ".py",
   "mimetype": "text/x-python",
   "name": "python",
   "nbconvert_exporter": "python",
   "pygments_lexer": "ipython3",
   "version": "3.7.3"
  }
 },
 "nbformat": 4,
 "nbformat_minor": 2
}
