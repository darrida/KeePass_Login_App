{
 "cells": [
  {
   "cell_type": "code",
   "execution_count": 73,
   "metadata": {},
   "outputs": [],
   "source": [
    "import re\n",
    "\n",
    "# EXAMPLE USAGE: \n",
    "# (1) Declare variables for the SID of the server and the directory that contains tnsnames.ora\n",
    "# (2) Pass variables into the parse_tnsnames() function. See the following three lines.\n",
    "# SID = \"PPRD\"\n",
    "# tnsnames_path = \"\"\n",
    "# Call parse_tnsnames(tnsnames_path, SID)\n",
    "\n",
    "def parse_tnsnames(tnsnames_path, server):\n",
    "    lines_tested = 0\n",
    "    connection = \"\"\n",
    "    try:\n",
    "        tns_read = tnsnames_path + \"tnsnames.ora\"\n",
    "        with open(tns_read, 'r') as f:\n",
    "            for line in f:\n",
    "                if line.startswith(server + \" =\") or line.startswith(server + \"=\"):\n",
    "                    counter = 0\n",
    "                    search_line = line\n",
    "                    while counter < 7:\n",
    "                #SEARCH FOR HOSTNAME\n",
    "                        #print(str(counter) + \":\" + search_line)\n",
    "                        if re.match(\".*HOST = \", search_line):\n",
    "                            host = search_line.split('HOST = ')[1]\n",
    "                            host = host.split(')')[0]\n",
    "                        elif re.match(\".*HOST=\", search_line):\n",
    "                            host = search_line.split('HOST=')[1]\n",
    "                            host = host.split(')')[0]\n",
    "                #SEARCH FOR PORT\n",
    "                        if re.match(\".*PORT = \", search_line):\n",
    "                            port = search_line.split('PORT = ')[1]\n",
    "                            port = port.split(')')[0]\n",
    "                        elif re.match(\".*PORT=\", search_line):\n",
    "                            port = search_line.split('PORT=')[1]\n",
    "                            port = port.split(')')[0]\n",
    "                #SEARCH FOR SERVICENAME\n",
    "                        if re.match(\".*SERVICE_NAME = \", search_line):\n",
    "                            service_name = search_line.split('SERVICE_NAME = ')[1]\n",
    "                            service_name = service_name.split(')')[0]\n",
    "                        elif re.match(\".*SERVICE_NAME=\", search_line):\n",
    "                            service_name = search_line.split('SERVICE_NAME=')[1]\n",
    "                            service_name = service_name.split(')')[0]\n",
    "\n",
    "                        search_line = next(f)\n",
    "                        counter += 1\n",
    "                    connection = \"@\" + host + \":\" + port + \"/\" + service_name\n",
    "                    #return connection\n",
    "                    \n",
    "                else:\n",
    "                    lines_tested += 1\n",
    "            try:\n",
    "                if connection != \"\":\n",
    "                    return connection\n",
    "                else:\n",
    "                    raise NoServerError\n",
    "            except NoServerError:\n",
    "                print(\"EXCEPTION: \" + str(lines_tested) + \" lines were read, but specified SID \"\n",
    "                          + \"not found in tnsnames.ora. Please check server name and tnsnames.ora path.\")\n",
    "                \n",
    "    except FileNotFoundError:\n",
    "        print(\"ERROR: Unable to find or open tnsnames.ora. Double check submitted path.\")\n",
    "    return connection\n",
    "    "
   ]
  },
  {
   "cell_type": "code",
   "execution_count": 74,
   "metadata": {},
   "outputs": [],
   "source": [
    "# define Python user-defined exceptions\n",
    "class Error(Exception):\n",
    "    \"\"\"Base class for other exceptions.\"\"\"\n",
    "    pass\n",
    "\n",
    "class NoServerError(Error):\n",
    "    \"\"\"Raised when SID is not found in tnsnames.ora file.\"\"\"\n",
    "    pass\n",
    "\n",
    "class DuplicateEntriesError(Error):\n",
    "    \"\"\"Raised when SID is not unique.\"\"\"\n",
    "    pass"
   ]
  },
  {
   "cell_type": "code",
   "execution_count": 77,
   "metadata": {},
   "outputs": [
    {
     "name": "stdout",
     "output_type": "stream",
     "text": [
      "ERROR: Unable to find or open tnsnames.ora. Double check submitted path.\n",
      "\n"
     ]
    }
   ],
   "source": [
    "def main():\n",
    "    SID = \"SERV1\"\n",
    "    tnsnames_path = \"\"\n",
    "    print(parse_tnsnames(tnsnames_path, SID))\n",
    "    \n",
    "main()"
   ]
  }
 ],
 "metadata": {
  "kernelspec": {
   "display_name": "Python 3",
   "language": "python",
   "name": "python3"
  },
  "language_info": {
   "codemirror_mode": {
    "name": "ipython",
    "version": 3
   },
   "file_extension": ".py",
   "mimetype": "text/x-python",
   "name": "python",
   "nbconvert_exporter": "python",
   "pygments_lexer": "ipython3",
   "version": "3.6.3"
  }
 },
 "nbformat": 4,
 "nbformat_minor": 2
}
