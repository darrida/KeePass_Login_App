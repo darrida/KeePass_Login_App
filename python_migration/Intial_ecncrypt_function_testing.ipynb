{
 "cells": [
  {
   "cell_type": "code",
   "execution_count": 1,
   "metadata": {},
   "outputs": [
    {
     "name": "stdout",
     "output_type": "stream",
     "text": [
      "$pbkdf2-sha256$500000$rlXqfe/9fy.lFCJkTGmtVQ$OD16YRPpGbGxBKHyu9Mtnh9GbbpietL59760bluEP6c\n"
     ]
    }
   ],
   "source": [
    "from passlib.hash import pbkdf2_sha256\n",
    " \n",
    "hash = pbkdf2_sha256.hash(\"thisthing\", rounds=500000, salt_size=16)\n",
    "\n",
    "print(hash)"
   ]
  },
  {
   "cell_type": "code",
   "execution_count": 2,
   "metadata": {},
   "outputs": [
    {
     "data": {
      "text/plain": [
       "True"
      ]
     },
     "execution_count": 2,
     "metadata": {},
     "output_type": "execute_result"
    }
   ],
   "source": [
    "pbkdf2_sha256.verify(\"thisthing\", hash)"
   ]
  },
  {
   "cell_type": "code",
   "execution_count": 3,
   "metadata": {},
   "outputs": [
    {
     "name": "stdout",
     "output_type": "stream",
     "text": [
      "$pbkdf2-sha256$500000$YGyNMSbEOIcwRsiZ834PQQ$FAunnGmdfsUYc6cocXo3rlptTEfMySD.fUsVQ9APcr8\n"
     ]
    }
   ],
   "source": [
    "hash1 = pbkdf2_sha256.hash(\"thisthing\", rounds=500000, salt_size=16)\n",
    "\n",
    "print(hash1)"
   ]
  },
  {
   "cell_type": "code",
   "execution_count": 4,
   "metadata": {},
   "outputs": [
    {
     "data": {
      "text/plain": [
       "True"
      ]
     },
     "execution_count": 4,
     "metadata": {},
     "output_type": "execute_result"
    }
   ],
   "source": [
    "pbkdf2_sha256.verify(\"thisthing\", hash1)"
   ]
  },
  {
   "cell_type": "code",
   "execution_count": 5,
   "metadata": {},
   "outputs": [
    {
     "name": "stdout",
     "output_type": "stream",
     "text": [
      "$pbkdf2-sha256$500000$BuBca23tPad0DmFM6b0Xog$Mtqb9Ja89Kkb/eLd2naveiUf0Lnewh09JEh8xfUPCT4\n"
     ]
    },
    {
     "data": {
      "text/plain": [
       "True"
      ]
     },
     "execution_count": 5,
     "metadata": {},
     "output_type": "execute_result"
    }
   ],
   "source": [
    "pw = \"enployee thingy water fixings\"\n",
    "hash2 = pbkdf2_sha256.hash(pw, rounds=500000, salt_size=16)\n",
    "\n",
    "print(hash2)\n",
    "pbkdf2_sha256.verify(pw, hash2)"
   ]
  }
 ],
 "metadata": {
  "kernelspec": {
   "display_name": "Python 3",
   "language": "python",
   "name": "python3"
  },
  "language_info": {
   "codemirror_mode": {
    "name": "ipython",
    "version": 3
   },
   "file_extension": ".py",
   "mimetype": "text/x-python",
   "name": "python",
   "nbconvert_exporter": "python",
   "pygments_lexer": "ipython3",
   "version": "3.7.3"
  }
 },
 "nbformat": 4,
 "nbformat_minor": 2
}
