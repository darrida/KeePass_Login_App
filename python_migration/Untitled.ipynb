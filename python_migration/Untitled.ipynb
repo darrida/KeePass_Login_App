{
 "cells": [
  {
   "cell_type": "code",
   "execution_count": 5,
   "metadata": {},
   "outputs": [
    {
     "name": "stdout",
     "output_type": "stream",
     "text": [
      "$pbkdf2-sha256$500000$DsF4T0npXWvtvRfCOMeYcw$QPOIN2hsYuMi8rXmCWcRiel/Icyw88DZnZ9eD032ZjQ\n"
     ]
    }
   ],
   "source": [
    "from passlib.hash import pbkdf2_sha256\n",
    " \n",
    "hash = pbkdf2_sha256.hash(\"thisthing\", rounds=500000, salt_size=16)\n",
    "\n",
    "print(hash)"
   ]
  },
  {
   "cell_type": "code",
   "execution_count": 8,
   "metadata": {},
   "outputs": [
    {
     "data": {
      "text/plain": [
       "True"
      ]
     },
     "execution_count": 8,
     "metadata": {},
     "output_type": "execute_result"
    }
   ],
   "source": [
    "pbkdf2_sha256.verify(\"thisthing\", hash)"
   ]
  },
  {
   "cell_type": "code",
   "execution_count": 10,
   "metadata": {},
   "outputs": [
    {
     "name": "stdout",
     "output_type": "stream",
     "text": [
      "$pbkdf2-sha256$500000$svbeG2OMUQphDGGM0fo/xw$d2rYhbBRZNuLrSnvgRKH2Zc1APrdzV19vCbZn8822iI\n"
     ]
    }
   ],
   "source": [
    "hash1 = pbkdf2_sha256.hash(\"thisthing\", rounds=500000, salt_size=16)\n",
    "\n",
    "print(hash1)"
   ]
  },
  {
   "cell_type": "code",
   "execution_count": 11,
   "metadata": {},
   "outputs": [
    {
     "data": {
      "text/plain": [
       "True"
      ]
     },
     "execution_count": 11,
     "metadata": {},
     "output_type": "execute_result"
    }
   ],
   "source": [
    "pbkdf2_sha256.verify(\"thisthing\", hash1)"
   ]
  },
  {
   "cell_type": "code",
   "execution_count": 15,
   "metadata": {},
   "outputs": [
    {
     "name": "stdout",
     "output_type": "stream",
     "text": [
      "$pbkdf2-sha256$500000$OWfsXQvBGOM8JyQEAOB8bw$R1jLW2J0sUzKFjNM/3QQW6OqMJQSyT3zGzBcmRJ6hqk\n"
     ]
    },
    {
     "data": {
      "text/plain": [
       "True"
      ]
     },
     "execution_count": 15,
     "metadata": {},
     "output_type": "execute_result"
    }
   ],
   "source": [
    "pw = \"enployee thingy water fixings\"\n",
    "hash2 = pbkdf2_sha256.hash(pw, rounds=500000, salt_size=16)\n",
    "\n",
    "print(hash2)\n",
    "pbkdf2_sha256.verify(pw, hash2)"
   ]
  }
 ],
 "metadata": {
  "kernelspec": {
   "display_name": "Python 3",
   "language": "python",
   "name": "python3"
  },
  "language_info": {
   "codemirror_mode": {
    "name": "ipython",
    "version": 3
   },
   "file_extension": ".py",
   "mimetype": "text/x-python",
   "name": "python",
   "nbconvert_exporter": "python",
   "pygments_lexer": "ipython3",
   "version": "3.6.3"
  }
 },
 "nbformat": 4,
 "nbformat_minor": 2
}
